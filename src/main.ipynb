{
 "cells": [
  {
   "cell_type": "code",
   "execution_count": 1,
   "metadata": {},
   "outputs": [],
   "source": [
    "from data import CocoDatasetManager"
   ]
  },
  {
   "cell_type": "code",
   "execution_count": 4,
   "metadata": {},
   "outputs": [
    {
     "name": "stdout",
     "output_type": "stream",
     "text": [
      "Importing samples...\n",
      " 100% |███████████████████| 50/50 [7.0ms elapsed, 0s remaining, 7.1K samples/s]       \n",
      "Import complete\n",
      "Importing samples...\n",
      " 100% |███████████████████| 50/50 [6.9ms elapsed, 0s remaining, 7.2K samples/s]       \n",
      "Import complete\n"
     ]
    }
   ],
   "source": [
    "# Example usage\n",
    "coco = CocoDatasetManager()\n",
    "\n",
    "# Later, load the saved datasets\n",
    "loaded_train_dataset = coco.load_saved_dataset(\"/workspaces/anaconda/src/data/train\")\n",
    "loaded_val_dataset = coco.load_saved_dataset(\"/workspaces/anaconda/src/data/test\")\n"
   ]
  },
  {
   "cell_type": "code",
   "execution_count": 5,
   "metadata": {},
   "outputs": [
    {
     "data": {
      "text/plain": [
       "Name:        2023.11.19.15.49.17\n",
       "Media type:  image\n",
       "Num samples: 50\n",
       "Persistent:  False\n",
       "Tags:        []\n",
       "Sample fields:\n",
       "    id:            fiftyone.core.fields.ObjectIdField\n",
       "    filepath:      fiftyone.core.fields.StringField\n",
       "    tags:          fiftyone.core.fields.ListField(fiftyone.core.fields.StringField)\n",
       "    metadata:      fiftyone.core.fields.EmbeddedDocumentField(fiftyone.core.metadata.ImageMetadata)\n",
       "    detections:    fiftyone.core.fields.EmbeddedDocumentField(fiftyone.core.labels.Detections)\n",
       "    segmentations: fiftyone.core.fields.EmbeddedDocumentField(fiftyone.core.labels.Detections)"
      ]
     },
     "execution_count": 5,
     "metadata": {},
     "output_type": "execute_result"
    }
   ],
   "source": [
    "loaded_train_dataset"
   ]
  },
  {
   "cell_type": "code",
   "execution_count": null,
   "metadata": {},
   "outputs": [],
   "source": []
  }
 ],
 "metadata": {
  "kernelspec": {
   "display_name": "base",
   "language": "python",
   "name": "python3"
  },
  "language_info": {
   "codemirror_mode": {
    "name": "ipython",
    "version": 3
   },
   "file_extension": ".py",
   "mimetype": "text/x-python",
   "name": "python",
   "nbconvert_exporter": "python",
   "pygments_lexer": "ipython3",
   "version": "3.11.5"
  }
 },
 "nbformat": 4,
 "nbformat_minor": 2
}
