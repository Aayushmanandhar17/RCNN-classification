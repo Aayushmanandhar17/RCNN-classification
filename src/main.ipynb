{
 "cells": [
  {
   "cell_type": "code",
   "execution_count": 21,
   "metadata": {},
   "outputs": [],
   "source": [
    "from data import CocoDatasetManager\n",
    "from collections import Counter"
   ]
  },
  {
   "cell_type": "code",
   "execution_count": 2,
   "metadata": {},
   "outputs": [
    {
     "name": "stdout",
     "output_type": "stream",
     "text": [
      "Importing samples...\n",
      " 100% |███████████████████| 50/50 [7.5ms elapsed, 0s remaining, 6.7K samples/s]       \n",
      "Import complete\n",
      "Importing samples...\n",
      " 100% |███████████████████| 50/50 [7.9ms elapsed, 0s remaining, 6.4K samples/s]       \n",
      "Import complete\n"
     ]
    }
   ],
   "source": [
    "# Example usage\n",
    "coco = CocoDatasetManager()\n",
    "\n",
    "# Later, load the saved datasets\n",
    "loaded_train_dataset = coco.load_saved_dataset(\"/workspaces/anaconda/src/data/train\")\n",
    "loaded_val_dataset = coco.load_saved_dataset(\"/workspaces/anaconda/src/data/test\")\n"
   ]
  },
  {
   "cell_type": "code",
   "execution_count": 41,
   "metadata": {},
   "outputs": [],
   "source": [
    "def dominant_label_box_size(detections):\n",
    "    max_area = 0\n",
    "    dominant_class = None\n",
    "\n",
    "    for detection in detections:\n",
    "        x_min, y_min, width, height = detection.bounding_box\n",
    "        area = width * height\n",
    "        if area > max_area:\n",
    "            max_area = area\n",
    "            dominant_class = detection.label\n",
    "    return dominant_class\n"
   ]
  },
  {
   "cell_type": "code",
   "execution_count": 26,
   "metadata": {},
   "outputs": [],
   "source": [
    "def dominant_majority_class(detections):\n",
    "    labels = [detection.label for detection in detections]\n",
    "    most_common_label = Counter(labels).most_common(1)[0][0]\n",
    "    return most_common_label\n"
   ]
  },
  {
   "cell_type": "code",
   "execution_count": 44,
   "metadata": {},
   "outputs": [
    {
     "name": "stdout",
     "output_type": "stream",
     "text": [
      "file 005037.jpg -- dominant_bounding_box: bus --dominant_majority: person\n",
      "file 006040.jpg -- dominant_bounding_box: train --dominant_majority: person\n",
      "file 007088.jpg -- dominant_bounding_box: person --dominant_majority: umbrella\n",
      "file 009891.jpg -- dominant_bounding_box: car --dominant_majority: car\n",
      "file 011197.jpg -- dominant_bounding_box: person --dominant_majority: traffic light\n",
      "file 017207.jpg -- dominant_bounding_box: bus --dominant_majority: car\n",
      "file 017627.jpg -- dominant_bounding_box: bus --dominant_majority: car\n",
      "file 018837.jpg -- dominant_bounding_box: truck --dominant_majority: person\n",
      "file 021839.jpg -- dominant_bounding_box: person --dominant_majority: person\n",
      "file 025393.jpg -- dominant_bounding_box: person --dominant_majority: car\n"
     ]
    }
   ],
   "source": [
    "i=10\n",
    "for sample in loaded_val_dataset:\n",
    "    detection =sample.detections.detections\n",
    "    dominant_bounding=dominant_label_box_size(detection)\n",
    "    dominant_majority=dominant_majority_class(detection)\n",
    "    print(f\"file {sample.filepath[-10:]} -- dominant_bounding_box: {dominant_bounding} --dominant_majority: {dominant_majority}\")\n",
    "    i=i-1\n",
    "    if i==0:\n",
    "        break\n"
   ]
  },
  {
   "cell_type": "code",
   "execution_count": null,
   "metadata": {},
   "outputs": [],
   "source": []
  }
 ],
 "metadata": {
  "kernelspec": {
   "display_name": "base",
   "language": "python",
   "name": "python3"
  },
  "language_info": {
   "codemirror_mode": {
    "name": "ipython",
    "version": 3
   },
   "file_extension": ".py",
   "mimetype": "text/x-python",
   "name": "python",
   "nbconvert_exporter": "python",
   "pygments_lexer": "ipython3",
   "version": "3.11.5"
  }
 },
 "nbformat": 4,
 "nbformat_minor": 2
}
