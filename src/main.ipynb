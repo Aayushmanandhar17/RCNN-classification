{
 "cells": [
  {
   "cell_type": "code",
   "execution_count": 1,
   "metadata": {},
   "outputs": [],
   "source": [
    "#from data import CocoDatasetManager\n",
    "from collections import Counter\n",
    "from backbone import ClassificationRCNN\n",
    "import torch\n",
    "from torchvision import datasets, transforms\n",
    "from torch.utils.data import DataLoader\n",
    "from PIL import UnidentifiedImageError\n",
    "import matplotlib.pyplot as plt\n"
   ]
  },
  {
   "cell_type": "code",
   "execution_count": 2,
   "metadata": {},
   "outputs": [],
   "source": [
    "#coco=CocoDatasetManager()\n",
    "#dataset=coco.load_dataset_seperate_folder('test',\"/workspaces/anaconda/src/data/test\")"
   ]
  },
  {
   "cell_type": "code",
   "execution_count": 3,
   "metadata": {},
   "outputs": [
    {
     "name": "stdout",
     "output_type": "stream",
     "text": [
      "Using device: cuda\n"
     ]
    }
   ],
   "source": [
    "# Check if CUDA (GPU support) is available\n",
    "device = torch.device('cuda' if torch.cuda.is_available() else 'cpu')\n",
    "print(f\"Using device: {device}\")"
   ]
  },
  {
   "cell_type": "markdown",
   "metadata": {},
   "source": [
    "## Loading the dataset"
   ]
  },
  {
   "cell_type": "code",
   "execution_count": 4,
   "metadata": {},
   "outputs": [],
   "source": [
    "# Define transformations\n",
    "transform = transforms.Compose([\n",
    "    transforms.Resize((224, 224)),  \n",
    "    transforms.ToTensor(),          \n",
    "    transforms.Normalize(mean=[0.485, 0.456, 0.406], std=[0.229, 0.224, 0.225])  \n",
    "])\n",
    "\n",
    "# Load the dataset\n",
    "train_dataset = datasets.ImageFolder(root='/home/amanandhar/Transferlearning/RCNN-classification/src/data/train', transform=transform)\n",
    "\n",
    "# Create a DataLoader\n",
    "train_loader = DataLoader(train_dataset, batch_size=32, shuffle=True, num_workers=4)\n",
    "\n",
    "\n"
   ]
  },
  {
   "cell_type": "code",
   "execution_count": 5,
   "metadata": {},
   "outputs": [],
   "source": [
    "from torch.utils.data import DataLoader, random_split\n",
    "from torchvision import datasets, transforms\n",
    "\n",
    "# Define transformations\n",
    "transform = transforms.Compose([\n",
    "    transforms.Resize((224, 224)),  \n",
    "    transforms.ToTensor(),          \n",
    "    transforms.Normalize(mean=[0.485, 0.456, 0.406], std=[0.229, 0.224, 0.225])  \n",
    "])\n",
    "\n",
    "# Load the dataset\n",
    "full_dataset = datasets.ImageFolder(root='/home/amanandhar/Transferlearning/RCNN-classification/src/data/train', transform=transform)\n",
    "\n",
    "# Split the dataset into train and test sets\n",
    "train_size = int(0.8 * len(full_dataset))  # 80% of the dataset\n",
    "test_size = len(full_dataset) - train_size\n",
    "train_dataset, test_dataset = random_split(full_dataset, [train_size, test_size])\n",
    "\n",
    "# Create DataLoaders for train and test sets\n",
    "train_loader = DataLoader(train_dataset, batch_size=32, shuffle=True, num_workers=4)\n",
    "test_loader = DataLoader(test_dataset, batch_size=32, shuffle=False, num_workers=4)\n"
   ]
  },
  {
   "cell_type": "code",
   "execution_count": 6,
   "metadata": {},
   "outputs": [
    {
     "name": "stdout",
     "output_type": "stream",
     "text": [
      "Number of training Images:  7499\n",
      "Number of test_loader:  1875\n"
     ]
    }
   ],
   "source": [
    "print(\"Number of training Images: \", len(train_dataset))\n",
    "print(\"Number of test_loader: \", len(test_dataset))"
   ]
  },
  {
   "cell_type": "markdown",
   "metadata": {},
   "source": [
    "## Loading the model"
   ]
  },
  {
   "cell_type": "code",
   "execution_count": 7,
   "metadata": {},
   "outputs": [
    {
     "name": "stderr",
     "output_type": "stream",
     "text": [
      "/home/amanandhar/miniconda3/lib/python3.11/site-packages/torchvision/models/_utils.py:208: UserWarning: The parameter 'pretrained' is deprecated since 0.13 and may be removed in the future, please use 'weights' instead.\n",
      "  warnings.warn(\n",
      "/home/amanandhar/miniconda3/lib/python3.11/site-packages/torchvision/models/_utils.py:223: UserWarning: Arguments other than a weight enum or `None` for 'weights' are deprecated since 0.13 and may be removed in the future. The current behavior is equivalent to passing `weights=FasterRCNN_ResNet50_FPN_V2_Weights.COCO_V1`. You can also use `weights=FasterRCNN_ResNet50_FPN_V2_Weights.DEFAULT` to get the most up-to-date weights.\n",
      "  warnings.warn(msg)\n"
     ]
    }
   ],
   "source": [
    "\n",
    "# Assuming you have defined a model, loss function, and optimizer\n",
    "model = ClassificationRCNN(num_classes=79)\n",
    "criterion = torch.nn.CrossEntropyLoss()\n",
    "optimizer = torch.optim.Adam(model.parameters(), lr=0.001)"
   ]
  },
  {
   "cell_type": "code",
   "execution_count": 8,
   "metadata": {},
   "outputs": [],
   "source": [
    "model = model.to(device)  # Move the model to GPU"
   ]
  },
  {
   "cell_type": "code",
   "execution_count": 9,
   "metadata": {},
   "outputs": [
    {
     "data": {
      "text/plain": [
       "ClassificationRCNN(\n",
       "  (resnet_backbone): IntermediateLayerGetter(\n",
       "    (conv1): Conv2d(3, 64, kernel_size=(7, 7), stride=(2, 2), padding=(3, 3), bias=False)\n",
       "    (bn1): BatchNorm2d(64, eps=1e-05, momentum=0.1, affine=True, track_running_stats=True)\n",
       "    (relu): ReLU(inplace=True)\n",
       "    (maxpool): MaxPool2d(kernel_size=3, stride=2, padding=1, dilation=1, ceil_mode=False)\n",
       "    (layer1): Sequential(\n",
       "      (0): Bottleneck(\n",
       "        (conv1): Conv2d(64, 64, kernel_size=(1, 1), stride=(1, 1), bias=False)\n",
       "        (bn1): BatchNorm2d(64, eps=1e-05, momentum=0.1, affine=True, track_running_stats=True)\n",
       "        (conv2): Conv2d(64, 64, kernel_size=(3, 3), stride=(1, 1), padding=(1, 1), bias=False)\n",
       "        (bn2): BatchNorm2d(64, eps=1e-05, momentum=0.1, affine=True, track_running_stats=True)\n",
       "        (conv3): Conv2d(64, 256, kernel_size=(1, 1), stride=(1, 1), bias=False)\n",
       "        (bn3): BatchNorm2d(256, eps=1e-05, momentum=0.1, affine=True, track_running_stats=True)\n",
       "        (relu): ReLU(inplace=True)\n",
       "        (downsample): Sequential(\n",
       "          (0): Conv2d(64, 256, kernel_size=(1, 1), stride=(1, 1), bias=False)\n",
       "          (1): BatchNorm2d(256, eps=1e-05, momentum=0.1, affine=True, track_running_stats=True)\n",
       "        )\n",
       "      )\n",
       "      (1): Bottleneck(\n",
       "        (conv1): Conv2d(256, 64, kernel_size=(1, 1), stride=(1, 1), bias=False)\n",
       "        (bn1): BatchNorm2d(64, eps=1e-05, momentum=0.1, affine=True, track_running_stats=True)\n",
       "        (conv2): Conv2d(64, 64, kernel_size=(3, 3), stride=(1, 1), padding=(1, 1), bias=False)\n",
       "        (bn2): BatchNorm2d(64, eps=1e-05, momentum=0.1, affine=True, track_running_stats=True)\n",
       "        (conv3): Conv2d(64, 256, kernel_size=(1, 1), stride=(1, 1), bias=False)\n",
       "        (bn3): BatchNorm2d(256, eps=1e-05, momentum=0.1, affine=True, track_running_stats=True)\n",
       "        (relu): ReLU(inplace=True)\n",
       "      )\n",
       "      (2): Bottleneck(\n",
       "        (conv1): Conv2d(256, 64, kernel_size=(1, 1), stride=(1, 1), bias=False)\n",
       "        (bn1): BatchNorm2d(64, eps=1e-05, momentum=0.1, affine=True, track_running_stats=True)\n",
       "        (conv2): Conv2d(64, 64, kernel_size=(3, 3), stride=(1, 1), padding=(1, 1), bias=False)\n",
       "        (bn2): BatchNorm2d(64, eps=1e-05, momentum=0.1, affine=True, track_running_stats=True)\n",
       "        (conv3): Conv2d(64, 256, kernel_size=(1, 1), stride=(1, 1), bias=False)\n",
       "        (bn3): BatchNorm2d(256, eps=1e-05, momentum=0.1, affine=True, track_running_stats=True)\n",
       "        (relu): ReLU(inplace=True)\n",
       "      )\n",
       "    )\n",
       "    (layer2): Sequential(\n",
       "      (0): Bottleneck(\n",
       "        (conv1): Conv2d(256, 128, kernel_size=(1, 1), stride=(1, 1), bias=False)\n",
       "        (bn1): BatchNorm2d(128, eps=1e-05, momentum=0.1, affine=True, track_running_stats=True)\n",
       "        (conv2): Conv2d(128, 128, kernel_size=(3, 3), stride=(2, 2), padding=(1, 1), bias=False)\n",
       "        (bn2): BatchNorm2d(128, eps=1e-05, momentum=0.1, affine=True, track_running_stats=True)\n",
       "        (conv3): Conv2d(128, 512, kernel_size=(1, 1), stride=(1, 1), bias=False)\n",
       "        (bn3): BatchNorm2d(512, eps=1e-05, momentum=0.1, affine=True, track_running_stats=True)\n",
       "        (relu): ReLU(inplace=True)\n",
       "        (downsample): Sequential(\n",
       "          (0): Conv2d(256, 512, kernel_size=(1, 1), stride=(2, 2), bias=False)\n",
       "          (1): BatchNorm2d(512, eps=1e-05, momentum=0.1, affine=True, track_running_stats=True)\n",
       "        )\n",
       "      )\n",
       "      (1): Bottleneck(\n",
       "        (conv1): Conv2d(512, 128, kernel_size=(1, 1), stride=(1, 1), bias=False)\n",
       "        (bn1): BatchNorm2d(128, eps=1e-05, momentum=0.1, affine=True, track_running_stats=True)\n",
       "        (conv2): Conv2d(128, 128, kernel_size=(3, 3), stride=(1, 1), padding=(1, 1), bias=False)\n",
       "        (bn2): BatchNorm2d(128, eps=1e-05, momentum=0.1, affine=True, track_running_stats=True)\n",
       "        (conv3): Conv2d(128, 512, kernel_size=(1, 1), stride=(1, 1), bias=False)\n",
       "        (bn3): BatchNorm2d(512, eps=1e-05, momentum=0.1, affine=True, track_running_stats=True)\n",
       "        (relu): ReLU(inplace=True)\n",
       "      )\n",
       "      (2): Bottleneck(\n",
       "        (conv1): Conv2d(512, 128, kernel_size=(1, 1), stride=(1, 1), bias=False)\n",
       "        (bn1): BatchNorm2d(128, eps=1e-05, momentum=0.1, affine=True, track_running_stats=True)\n",
       "        (conv2): Conv2d(128, 128, kernel_size=(3, 3), stride=(1, 1), padding=(1, 1), bias=False)\n",
       "        (bn2): BatchNorm2d(128, eps=1e-05, momentum=0.1, affine=True, track_running_stats=True)\n",
       "        (conv3): Conv2d(128, 512, kernel_size=(1, 1), stride=(1, 1), bias=False)\n",
       "        (bn3): BatchNorm2d(512, eps=1e-05, momentum=0.1, affine=True, track_running_stats=True)\n",
       "        (relu): ReLU(inplace=True)\n",
       "      )\n",
       "      (3): Bottleneck(\n",
       "        (conv1): Conv2d(512, 128, kernel_size=(1, 1), stride=(1, 1), bias=False)\n",
       "        (bn1): BatchNorm2d(128, eps=1e-05, momentum=0.1, affine=True, track_running_stats=True)\n",
       "        (conv2): Conv2d(128, 128, kernel_size=(3, 3), stride=(1, 1), padding=(1, 1), bias=False)\n",
       "        (bn2): BatchNorm2d(128, eps=1e-05, momentum=0.1, affine=True, track_running_stats=True)\n",
       "        (conv3): Conv2d(128, 512, kernel_size=(1, 1), stride=(1, 1), bias=False)\n",
       "        (bn3): BatchNorm2d(512, eps=1e-05, momentum=0.1, affine=True, track_running_stats=True)\n",
       "        (relu): ReLU(inplace=True)\n",
       "      )\n",
       "    )\n",
       "    (layer3): Sequential(\n",
       "      (0): Bottleneck(\n",
       "        (conv1): Conv2d(512, 256, kernel_size=(1, 1), stride=(1, 1), bias=False)\n",
       "        (bn1): BatchNorm2d(256, eps=1e-05, momentum=0.1, affine=True, track_running_stats=True)\n",
       "        (conv2): Conv2d(256, 256, kernel_size=(3, 3), stride=(2, 2), padding=(1, 1), bias=False)\n",
       "        (bn2): BatchNorm2d(256, eps=1e-05, momentum=0.1, affine=True, track_running_stats=True)\n",
       "        (conv3): Conv2d(256, 1024, kernel_size=(1, 1), stride=(1, 1), bias=False)\n",
       "        (bn3): BatchNorm2d(1024, eps=1e-05, momentum=0.1, affine=True, track_running_stats=True)\n",
       "        (relu): ReLU(inplace=True)\n",
       "        (downsample): Sequential(\n",
       "          (0): Conv2d(512, 1024, kernel_size=(1, 1), stride=(2, 2), bias=False)\n",
       "          (1): BatchNorm2d(1024, eps=1e-05, momentum=0.1, affine=True, track_running_stats=True)\n",
       "        )\n",
       "      )\n",
       "      (1): Bottleneck(\n",
       "        (conv1): Conv2d(1024, 256, kernel_size=(1, 1), stride=(1, 1), bias=False)\n",
       "        (bn1): BatchNorm2d(256, eps=1e-05, momentum=0.1, affine=True, track_running_stats=True)\n",
       "        (conv2): Conv2d(256, 256, kernel_size=(3, 3), stride=(1, 1), padding=(1, 1), bias=False)\n",
       "        (bn2): BatchNorm2d(256, eps=1e-05, momentum=0.1, affine=True, track_running_stats=True)\n",
       "        (conv3): Conv2d(256, 1024, kernel_size=(1, 1), stride=(1, 1), bias=False)\n",
       "        (bn3): BatchNorm2d(1024, eps=1e-05, momentum=0.1, affine=True, track_running_stats=True)\n",
       "        (relu): ReLU(inplace=True)\n",
       "      )\n",
       "      (2): Bottleneck(\n",
       "        (conv1): Conv2d(1024, 256, kernel_size=(1, 1), stride=(1, 1), bias=False)\n",
       "        (bn1): BatchNorm2d(256, eps=1e-05, momentum=0.1, affine=True, track_running_stats=True)\n",
       "        (conv2): Conv2d(256, 256, kernel_size=(3, 3), stride=(1, 1), padding=(1, 1), bias=False)\n",
       "        (bn2): BatchNorm2d(256, eps=1e-05, momentum=0.1, affine=True, track_running_stats=True)\n",
       "        (conv3): Conv2d(256, 1024, kernel_size=(1, 1), stride=(1, 1), bias=False)\n",
       "        (bn3): BatchNorm2d(1024, eps=1e-05, momentum=0.1, affine=True, track_running_stats=True)\n",
       "        (relu): ReLU(inplace=True)\n",
       "      )\n",
       "      (3): Bottleneck(\n",
       "        (conv1): Conv2d(1024, 256, kernel_size=(1, 1), stride=(1, 1), bias=False)\n",
       "        (bn1): BatchNorm2d(256, eps=1e-05, momentum=0.1, affine=True, track_running_stats=True)\n",
       "        (conv2): Conv2d(256, 256, kernel_size=(3, 3), stride=(1, 1), padding=(1, 1), bias=False)\n",
       "        (bn2): BatchNorm2d(256, eps=1e-05, momentum=0.1, affine=True, track_running_stats=True)\n",
       "        (conv3): Conv2d(256, 1024, kernel_size=(1, 1), stride=(1, 1), bias=False)\n",
       "        (bn3): BatchNorm2d(1024, eps=1e-05, momentum=0.1, affine=True, track_running_stats=True)\n",
       "        (relu): ReLU(inplace=True)\n",
       "      )\n",
       "      (4): Bottleneck(\n",
       "        (conv1): Conv2d(1024, 256, kernel_size=(1, 1), stride=(1, 1), bias=False)\n",
       "        (bn1): BatchNorm2d(256, eps=1e-05, momentum=0.1, affine=True, track_running_stats=True)\n",
       "        (conv2): Conv2d(256, 256, kernel_size=(3, 3), stride=(1, 1), padding=(1, 1), bias=False)\n",
       "        (bn2): BatchNorm2d(256, eps=1e-05, momentum=0.1, affine=True, track_running_stats=True)\n",
       "        (conv3): Conv2d(256, 1024, kernel_size=(1, 1), stride=(1, 1), bias=False)\n",
       "        (bn3): BatchNorm2d(1024, eps=1e-05, momentum=0.1, affine=True, track_running_stats=True)\n",
       "        (relu): ReLU(inplace=True)\n",
       "      )\n",
       "      (5): Bottleneck(\n",
       "        (conv1): Conv2d(1024, 256, kernel_size=(1, 1), stride=(1, 1), bias=False)\n",
       "        (bn1): BatchNorm2d(256, eps=1e-05, momentum=0.1, affine=True, track_running_stats=True)\n",
       "        (conv2): Conv2d(256, 256, kernel_size=(3, 3), stride=(1, 1), padding=(1, 1), bias=False)\n",
       "        (bn2): BatchNorm2d(256, eps=1e-05, momentum=0.1, affine=True, track_running_stats=True)\n",
       "        (conv3): Conv2d(256, 1024, kernel_size=(1, 1), stride=(1, 1), bias=False)\n",
       "        (bn3): BatchNorm2d(1024, eps=1e-05, momentum=0.1, affine=True, track_running_stats=True)\n",
       "        (relu): ReLU(inplace=True)\n",
       "      )\n",
       "    )\n",
       "    (layer4): Sequential(\n",
       "      (0): Bottleneck(\n",
       "        (conv1): Conv2d(1024, 512, kernel_size=(1, 1), stride=(1, 1), bias=False)\n",
       "        (bn1): BatchNorm2d(512, eps=1e-05, momentum=0.1, affine=True, track_running_stats=True)\n",
       "        (conv2): Conv2d(512, 512, kernel_size=(3, 3), stride=(2, 2), padding=(1, 1), bias=False)\n",
       "        (bn2): BatchNorm2d(512, eps=1e-05, momentum=0.1, affine=True, track_running_stats=True)\n",
       "        (conv3): Conv2d(512, 2048, kernel_size=(1, 1), stride=(1, 1), bias=False)\n",
       "        (bn3): BatchNorm2d(2048, eps=1e-05, momentum=0.1, affine=True, track_running_stats=True)\n",
       "        (relu): ReLU(inplace=True)\n",
       "        (downsample): Sequential(\n",
       "          (0): Conv2d(1024, 2048, kernel_size=(1, 1), stride=(2, 2), bias=False)\n",
       "          (1): BatchNorm2d(2048, eps=1e-05, momentum=0.1, affine=True, track_running_stats=True)\n",
       "        )\n",
       "      )\n",
       "      (1): Bottleneck(\n",
       "        (conv1): Conv2d(2048, 512, kernel_size=(1, 1), stride=(1, 1), bias=False)\n",
       "        (bn1): BatchNorm2d(512, eps=1e-05, momentum=0.1, affine=True, track_running_stats=True)\n",
       "        (conv2): Conv2d(512, 512, kernel_size=(3, 3), stride=(1, 1), padding=(1, 1), bias=False)\n",
       "        (bn2): BatchNorm2d(512, eps=1e-05, momentum=0.1, affine=True, track_running_stats=True)\n",
       "        (conv3): Conv2d(512, 2048, kernel_size=(1, 1), stride=(1, 1), bias=False)\n",
       "        (bn3): BatchNorm2d(2048, eps=1e-05, momentum=0.1, affine=True, track_running_stats=True)\n",
       "        (relu): ReLU(inplace=True)\n",
       "      )\n",
       "      (2): Bottleneck(\n",
       "        (conv1): Conv2d(2048, 512, kernel_size=(1, 1), stride=(1, 1), bias=False)\n",
       "        (bn1): BatchNorm2d(512, eps=1e-05, momentum=0.1, affine=True, track_running_stats=True)\n",
       "        (conv2): Conv2d(512, 512, kernel_size=(3, 3), stride=(1, 1), padding=(1, 1), bias=False)\n",
       "        (bn2): BatchNorm2d(512, eps=1e-05, momentum=0.1, affine=True, track_running_stats=True)\n",
       "        (conv3): Conv2d(512, 2048, kernel_size=(1, 1), stride=(1, 1), bias=False)\n",
       "        (bn3): BatchNorm2d(2048, eps=1e-05, momentum=0.1, affine=True, track_running_stats=True)\n",
       "        (relu): ReLU(inplace=True)\n",
       "      )\n",
       "    )\n",
       "  )\n",
       "  (ffn): Sequential(\n",
       "    (0): Linear(in_features=2048, out_features=512, bias=True)\n",
       "    (1): ReLU()\n",
       "    (2): Dropout(p=0.5, inplace=False)\n",
       "    (3): Linear(in_features=512, out_features=79, bias=True)\n",
       "  )\n",
       ")"
      ]
     },
     "execution_count": 9,
     "metadata": {},
     "output_type": "execute_result"
    }
   ],
   "source": [
    "model"
   ]
  },
  {
   "cell_type": "markdown",
   "metadata": {},
   "source": [
    "## Training the model"
   ]
  },
  {
   "cell_type": "code",
   "execution_count": 10,
   "metadata": {},
   "outputs": [
    {
     "name": "stdout",
     "output_type": "stream",
     "text": [
      "Starting training for 5 epochs.\n",
      "Epoch 1 started.\n",
      "Epoch [1/5], Batch 0, Loss: 4.3605\n",
      "Epoch [1/5], Batch 10, Loss: 3.3033\n",
      "Epoch [1/5], Batch 20, Loss: 3.8644\n",
      "Epoch [1/5], Batch 30, Loss: 3.1445\n",
      "Epoch [1/5], Batch 40, Loss: 3.3229\n",
      "Epoch [1/5], Batch 50, Loss: 3.5229\n",
      "Epoch [1/5], Batch 60, Loss: 2.8808\n",
      "Epoch [1/5], Batch 70, Loss: 2.6731\n",
      "Epoch [1/5], Batch 80, Loss: 3.1244\n",
      "Epoch [1/5], Batch 90, Loss: 2.2564\n",
      "Epoch [1/5], Batch 100, Loss: 3.1268\n",
      "Epoch [1/5], Batch 110, Loss: 2.6956\n",
      "Epoch [1/5], Batch 120, Loss: 3.0985\n",
      "Epoch [1/5], Batch 130, Loss: 2.7060\n",
      "Epoch [1/5], Batch 140, Loss: 2.9309\n",
      "Epoch [1/5], Batch 150, Loss: 2.8616\n",
      "Epoch [1/5], Batch 160, Loss: 3.0159\n",
      "Epoch [1/5], Batch 170, Loss: 2.7234\n",
      "Epoch [1/5], Batch 180, Loss: 3.3697\n",
      "Epoch [1/5], Batch 190, Loss: 2.6794\n",
      "Epoch [1/5], Batch 200, Loss: 3.0544\n",
      "Epoch [1/5], Batch 210, Loss: 2.4222\n",
      "Epoch [1/5], Batch 220, Loss: 3.3272\n",
      "Epoch [1/5], Batch 230, Loss: 2.2659\n",
      "Epoch [1/5] completed, Training Loss: 2.8823, Validation Loss: 2.8284, Accuracy: 35.20%\n",
      "Epoch 2 started.\n",
      "Epoch [2/5], Batch 0, Loss: 2.7408\n",
      "Epoch [2/5], Batch 10, Loss: 3.0753\n",
      "Epoch [2/5], Batch 20, Loss: 2.6264\n",
      "Epoch [2/5], Batch 30, Loss: 2.0005\n",
      "Epoch [2/5], Batch 40, Loss: 2.8830\n",
      "Epoch [2/5], Batch 50, Loss: 2.6328\n",
      "Epoch [2/5], Batch 60, Loss: 3.1812\n",
      "Epoch [2/5], Batch 70, Loss: 3.0433\n",
      "Epoch [2/5], Batch 80, Loss: 2.5976\n",
      "Epoch [2/5], Batch 90, Loss: 2.0233\n",
      "Epoch [2/5], Batch 100, Loss: 3.3263\n",
      "Epoch [2/5], Batch 110, Loss: 2.9237\n",
      "Epoch [2/5], Batch 120, Loss: 2.9981\n",
      "Epoch [2/5], Batch 130, Loss: 2.5173\n",
      "Epoch [2/5], Batch 140, Loss: 2.8808\n",
      "Epoch [2/5], Batch 150, Loss: 2.3968\n",
      "Epoch [2/5], Batch 160, Loss: 2.5274\n",
      "Epoch [2/5], Batch 170, Loss: 3.0778\n",
      "Epoch [2/5], Batch 180, Loss: 2.5793\n",
      "Epoch [2/5], Batch 190, Loss: 2.1827\n",
      "Epoch [2/5], Batch 200, Loss: 2.5581\n",
      "Epoch [2/5], Batch 210, Loss: 2.2639\n",
      "Epoch [2/5], Batch 220, Loss: 2.3605\n",
      "Epoch [2/5], Batch 230, Loss: 2.1677\n",
      "Epoch [2/5] completed, Training Loss: 2.5710, Validation Loss: 2.7340, Accuracy: 37.28%\n",
      "Epoch 3 started.\n",
      "Epoch [3/5], Batch 0, Loss: 3.1000\n",
      "Epoch [3/5], Batch 10, Loss: 2.4537\n",
      "Epoch [3/5], Batch 20, Loss: 2.8647\n",
      "Epoch [3/5], Batch 30, Loss: 2.8052\n",
      "Epoch [3/5], Batch 40, Loss: 1.6091\n",
      "Epoch [3/5], Batch 50, Loss: 2.9606\n",
      "Epoch [3/5], Batch 60, Loss: 2.3590\n",
      "Epoch [3/5], Batch 70, Loss: 2.6636\n",
      "Epoch [3/5], Batch 80, Loss: 2.8482\n",
      "Epoch [3/5], Batch 90, Loss: 2.5745\n",
      "Epoch [3/5], Batch 100, Loss: 2.4577\n",
      "Epoch [3/5], Batch 110, Loss: 2.9656\n",
      "Epoch [3/5], Batch 120, Loss: 3.0376\n",
      "Epoch [3/5], Batch 130, Loss: 2.1455\n",
      "Epoch [3/5], Batch 140, Loss: 2.3451\n",
      "Epoch [3/5], Batch 150, Loss: 2.8852\n",
      "Epoch [3/5], Batch 160, Loss: 2.4849\n",
      "Epoch [3/5], Batch 170, Loss: 2.5587\n",
      "Epoch [3/5], Batch 180, Loss: 2.6326\n",
      "Epoch [3/5], Batch 190, Loss: 2.1140\n",
      "Epoch [3/5], Batch 200, Loss: 2.0693\n",
      "Epoch [3/5], Batch 210, Loss: 2.2278\n",
      "Epoch [3/5], Batch 220, Loss: 1.8328\n",
      "Epoch [3/5], Batch 230, Loss: 2.9083\n",
      "Epoch [3/5] completed, Training Loss: 2.4902, Validation Loss: 2.5986, Accuracy: 37.65%\n",
      "Epoch 4 started.\n",
      "Epoch [4/5], Batch 0, Loss: 1.8812\n",
      "Epoch [4/5], Batch 10, Loss: 1.8116\n",
      "Epoch [4/5], Batch 20, Loss: 2.8412\n",
      "Epoch [4/5], Batch 30, Loss: 2.3944\n",
      "Epoch [4/5], Batch 40, Loss: 2.6305\n",
      "Epoch [4/5], Batch 50, Loss: 2.4663\n",
      "Epoch [4/5], Batch 60, Loss: 2.1591\n",
      "Epoch [4/5], Batch 70, Loss: 2.4744\n",
      "Epoch [4/5], Batch 80, Loss: 2.7264\n",
      "Epoch [4/5], Batch 90, Loss: 2.1245\n",
      "Epoch [4/5], Batch 100, Loss: 2.1854\n",
      "Epoch [4/5], Batch 110, Loss: 2.5433\n",
      "Epoch [4/5], Batch 120, Loss: 1.7344\n",
      "Epoch [4/5], Batch 130, Loss: 2.5787\n",
      "Epoch [4/5], Batch 140, Loss: 2.0625\n",
      "Epoch [4/5], Batch 150, Loss: 1.9625\n",
      "Epoch [4/5], Batch 160, Loss: 2.1661\n",
      "Epoch [4/5], Batch 170, Loss: 2.0984\n",
      "Epoch [4/5], Batch 180, Loss: 2.1743\n",
      "Epoch [4/5], Batch 190, Loss: 1.7819\n",
      "Epoch [4/5], Batch 200, Loss: 1.8383\n",
      "Epoch [4/5], Batch 210, Loss: 2.5721\n",
      "Epoch [4/5], Batch 220, Loss: 2.2421\n",
      "Epoch [4/5], Batch 230, Loss: 2.0495\n",
      "Epoch [4/5] completed, Training Loss: 2.7626, Validation Loss: 2.5131, Accuracy: 38.88%\n",
      "Epoch 5 started.\n",
      "Epoch [5/5], Batch 0, Loss: 2.2231\n",
      "Epoch [5/5], Batch 10, Loss: 1.6298\n",
      "Epoch [5/5], Batch 20, Loss: 2.5876\n",
      "Epoch [5/5], Batch 30, Loss: 2.2788\n",
      "Epoch [5/5], Batch 40, Loss: 2.0920\n",
      "Epoch [5/5], Batch 50, Loss: 2.8740\n",
      "Epoch [5/5], Batch 60, Loss: 1.6191\n",
      "Epoch [5/5], Batch 70, Loss: 2.5970\n",
      "Epoch [5/5], Batch 80, Loss: 1.8992\n",
      "Epoch [5/5], Batch 90, Loss: 2.0686\n",
      "Epoch [5/5], Batch 100, Loss: 2.2666\n",
      "Epoch [5/5], Batch 110, Loss: 2.1623\n",
      "Epoch [5/5], Batch 120, Loss: 2.3068\n",
      "Epoch [5/5], Batch 130, Loss: 2.6209\n",
      "Epoch [5/5], Batch 140, Loss: 2.4552\n",
      "Epoch [5/5], Batch 150, Loss: 2.1584\n",
      "Epoch [5/5], Batch 160, Loss: 2.4591\n",
      "Epoch [5/5], Batch 170, Loss: 2.1129\n",
      "Epoch [5/5], Batch 180, Loss: 1.9565\n",
      "Epoch [5/5], Batch 190, Loss: 2.1141\n",
      "Epoch [5/5], Batch 200, Loss: 2.4767\n",
      "Epoch [5/5], Batch 210, Loss: 2.1632\n",
      "Epoch [5/5], Batch 220, Loss: 2.7300\n",
      "Epoch [5/5], Batch 230, Loss: 2.4609\n",
      "Epoch [5/5] completed, Training Loss: 2.7476, Validation Loss: 2.5288, Accuracy: 38.72%\n"
     ]
    }
   ],
   "source": [
    "num_epochs = 100\n",
    "loss_graph = []\n",
    "accuracy_graph = []\n",
    "\n",
    "print(f\"Starting training for {num_epochs} epochs.\")\n",
    "\n",
    "for epoch in range(num_epochs):\n",
    "    model.train()  # Set the model to training mode\n",
    "    print(f\"Epoch {epoch+1} started.\")\n",
    "    for i, (images, labels) in enumerate(train_loader):\n",
    "        images, labels = images.to(device), labels.to(device)\n",
    "        try:\n",
    "            # Forward pass\n",
    "            outputs = model(images)\n",
    "            loss = criterion(outputs, labels)\n",
    "\n",
    "            # Backward pass and optimization\n",
    "            optimizer.zero_grad()\n",
    "            loss.backward()\n",
    "            optimizer.step()\n",
    "\n",
    "            if i % 10 == 0:  # Print every 10 batches\n",
    "                loss_value = loss.item()\n",
    "                print(f\"Epoch [{epoch+1}/{num_epochs}], Batch {i}, Loss: {loss_value:.4f}\")\n",
    "\n",
    "        except Exception as e:\n",
    "            print(f\"An error occurred: {e}\")\n",
    "    loss_graph.append(loss_value)\n",
    "\n",
    "    # Validation phase\n",
    "    model.eval()  # Set the model to evaluation mode\n",
    "    total_val_loss = 0\n",
    "    correct_predictions = 0\n",
    "    total_predictions = 0\n",
    "    with torch.no_grad():\n",
    "        for images, labels in test_loader:\n",
    "            images, labels = images.to(device), labels.to(device)\n",
    "            outputs = model(images)\n",
    "            loss = criterion(outputs, labels)\n",
    "            total_val_loss += loss.item()\n",
    "\n",
    "            _, predicted = torch.max(outputs.data, 1)\n",
    "            total_predictions += labels.size(0)\n",
    "            correct_predictions += (predicted == labels).sum().item()\n",
    "\n",
    "    avg_val_loss = total_val_loss / len(test_loader)\n",
    "    accuracy = (correct_predictions / total_predictions) * 100\n",
    "    accuracy_graph.append(accuracy)\n",
    "    print(f'Epoch [{epoch+1}/{num_epochs}] completed, Training Loss: {loss.item():.4f}, Validation Loss: {avg_val_loss:.4f}, Accuracy: {accuracy:.2f}%')\n"
   ]
  },
  {
   "cell_type": "code",
   "execution_count": 12,
   "metadata": {},
   "outputs": [
    {
     "data": {
      "text/plain": [
       "[<matplotlib.lines.Line2D at 0x7f80abf1b5d0>]"
      ]
     },
     "execution_count": 12,
     "metadata": {},
     "output_type": "execute_result"
    },
    {
     "data": {
      "image/png": "[encoded data removed]",
      "text/plain": [
       "<Figure size 640x480 with 1 Axes>"
      ]
     },
     "metadata": {},
     "output_type": "display_data"
    }
   ],
   "source": [
    "plt.title(\"Training Loss\")\n",
    "plt.xlabel(\"epochs\")\n",
    "plt.ylabel(\"training loss\")\n",
    "plt.plot(loss_graph)"
   ]
  },
  {
   "cell_type": "code",
   "execution_count": 14,
   "metadata": {},
   "outputs": [
    {
     "data": {
      "text/plain": [
       "[<matplotlib.lines.Line2D at 0x7f808c0f3cd0>]"
      ]
     },
     "execution_count": 14,
     "metadata": {},
     "output_type": "execute_result"
    },
    {
     "data": {
      "image/png": "[encoded data removed]",
      "text/plain": [
       "<Figure size 640x480 with 1 Axes>"
      ]
     },
     "metadata": {},
     "output_type": "display_data"
    }
   ],
   "source": [
    "plt.title(\"Validation Accuracy\")\n",
    "plt.xlabel(\"epochs\")\n",
    "plt.ylabel(\"Accuracy\")\n",
    "plt.plot(accuracy_graph)"
   ]
  },
  {
   "cell_type": "code",
   "execution_count": null,
   "metadata": {},
   "outputs": [],
   "source": []
  }
 ],
 "metadata": {
  "kernelspec": {
   "display_name": "base",
   "language": "python",
   "name": "python3"
  },
  "language_info": {
   "codemirror_mode": {
    "name": "ipython",
    "version": 3
   },
   "file_extension": ".py",
   "mimetype": "text/x-python",
   "name": "python",
   "nbconvert_exporter": "python",
   "pygments_lexer": "ipython3",
   "version": "3.11.4"
  }
 },
 "nbformat": 4,
 "nbformat_minor": 2
}
